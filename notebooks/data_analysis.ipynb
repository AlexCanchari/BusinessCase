{
 "cells": [
  {
   "cell_type": "code",
   "execution_count": 1,
   "metadata": {},
   "outputs": [],
   "source": [
    "import pandas as pd\n",
    "from pandasql import sqldf"
   ]
  },
  {
   "cell_type": "code",
   "execution_count": 2,
   "metadata": {},
   "outputs": [],
   "source": [
    "assigned_order = pd.read_csv('../data/Assigned_orders.csv')\n",
    "completed_order = pd.read_csv('../data/Completed_orders.csv')\n",
    "courier_debt = pd.read_csv('../data/Courier_debt.csv')"
   ]
  },
  {
   "cell_type": "code",
   "execution_count": 3,
   "metadata": {},
   "outputs": [],
   "source": [
    "courier_debt['rider_id'] = courier_debt['rider_id'].str.replace('id', 'id_')"
   ]
  },
  {
   "cell_type": "code",
   "execution_count": 4,
   "metadata": {},
   "outputs": [
    {
     "data": {
      "text/plain": [
       "Index(['rider_id', 'year_month', 'pay_type_processed', 'assigned', 'rejected'], dtype='object')"
      ]
     },
     "execution_count": 4,
     "metadata": {},
     "output_type": "execute_result"
    }
   ],
   "source": [
    "assigned_order.columns"
   ]
  },
  {
   "cell_type": "code",
   "execution_count": 5,
   "metadata": {},
   "outputs": [
    {
     "data": {
      "text/plain": [
       "Index(['rider_id', 'year_month', 'pay_type_processed',\n",
       "       'total_completed_orders_count'],\n",
       "      dtype='object')"
      ]
     },
     "execution_count": 5,
     "metadata": {},
     "output_type": "execute_result"
    }
   ],
   "source": [
    "completed_order.columns"
   ]
  },
  {
   "cell_type": "code",
   "execution_count": 6,
   "metadata": {},
   "outputs": [
    {
     "data": {
      "text/plain": [
       "Index(['rider_id', 'first_online_date', 'vehicle_type', 'last_online_date',\n",
       "       'debt_2022-10', 'debt_2022-11', 'debt_2022-12', 'debt_2023-01',\n",
       "       'debt_2023-02', 'debt_2023-03'],\n",
       "      dtype='object')"
      ]
     },
     "execution_count": 6,
     "metadata": {},
     "output_type": "execute_result"
    }
   ],
   "source": [
    "courier_debt.columns"
   ]
  },
  {
   "cell_type": "code",
   "execution_count": 7,
   "metadata": {},
   "outputs": [
    {
     "data": {
      "text/plain": [
       "50202"
      ]
     },
     "execution_count": 7,
     "metadata": {},
     "output_type": "execute_result"
    }
   ],
   "source": [
    "courier_debt['rider_id'].nunique()"
   ]
  },
  {
   "cell_type": "code",
   "execution_count": 8,
   "metadata": {},
   "outputs": [
    {
     "data": {
      "text/plain": [
       "37386"
      ]
     },
     "execution_count": 8,
     "metadata": {},
     "output_type": "execute_result"
    }
   ],
   "source": [
    "completed_order['rider_id'].nunique()"
   ]
  },
  {
   "cell_type": "code",
   "execution_count": 9,
   "metadata": {},
   "outputs": [
    {
     "data": {
      "text/plain": [
       "42844"
      ]
     },
     "execution_count": 9,
     "metadata": {},
     "output_type": "execute_result"
    }
   ],
   "source": [
    "assigned_order['rider_id'].nunique()"
   ]
  },
  {
   "cell_type": "code",
   "execution_count": 10,
   "metadata": {},
   "outputs": [
    {
     "data": {
      "text/html": [
       "<div>\n",
       "<style scoped>\n",
       "    .dataframe tbody tr th:only-of-type {\n",
       "        vertical-align: middle;\n",
       "    }\n",
       "\n",
       "    .dataframe tbody tr th {\n",
       "        vertical-align: top;\n",
       "    }\n",
       "\n",
       "    .dataframe thead th {\n",
       "        text-align: right;\n",
       "    }\n",
       "</style>\n",
       "<table border=\"1\" class=\"dataframe\">\n",
       "  <thead>\n",
       "    <tr style=\"text-align: right;\">\n",
       "      <th></th>\n",
       "      <th>rider_id</th>\n",
       "    </tr>\n",
       "  </thead>\n",
       "  <tbody>\n",
       "  </tbody>\n",
       "</table>\n",
       "</div>"
      ],
      "text/plain": [
       "Empty DataFrame\n",
       "Columns: [rider_id]\n",
       "Index: []"
      ]
     },
     "execution_count": 10,
     "metadata": {},
     "output_type": "execute_result"
    }
   ],
   "source": [
    "sqldf(''' SELECT distinct rider_id FROM assigned_order WHERE rider_id not in (SELECT distinct rider_id FROM assigned_order)''')"
   ]
  },
  {
   "cell_type": "markdown",
   "metadata": {},
   "source": [
    "Hemos validado que toda la tabla de órdenes completadas se encuentre dentro de órdenes asignadas"
   ]
  },
  {
   "cell_type": "code",
   "execution_count": 11,
   "metadata": {},
   "outputs": [
    {
     "data": {
      "text/html": [
       "<div>\n",
       "<style scoped>\n",
       "    .dataframe tbody tr th:only-of-type {\n",
       "        vertical-align: middle;\n",
       "    }\n",
       "\n",
       "    .dataframe tbody tr th {\n",
       "        vertical-align: top;\n",
       "    }\n",
       "\n",
       "    .dataframe thead th {\n",
       "        text-align: right;\n",
       "    }\n",
       "</style>\n",
       "<table border=\"1\" class=\"dataframe\">\n",
       "  <thead>\n",
       "    <tr style=\"text-align: right;\">\n",
       "      <th></th>\n",
       "      <th>rider_id</th>\n",
       "      <th>year_month</th>\n",
       "      <th>pay_type_processed</th>\n",
       "      <th>assigned</th>\n",
       "      <th>rejected</th>\n",
       "    </tr>\n",
       "  </thead>\n",
       "  <tbody>\n",
       "    <tr>\n",
       "      <th>0</th>\n",
       "      <td>id_5764642082471806385</td>\n",
       "      <td>2023-02</td>\n",
       "      <td>PPB</td>\n",
       "      <td>1</td>\n",
       "      <td>1</td>\n",
       "    </tr>\n",
       "    <tr>\n",
       "      <th>1</th>\n",
       "      <td>id_5764636073443459204</td>\n",
       "      <td>2023-02</td>\n",
       "      <td>Card</td>\n",
       "      <td>7</td>\n",
       "      <td>7</td>\n",
       "    </tr>\n",
       "    <tr>\n",
       "      <th>2</th>\n",
       "      <td>id_5764639444808241093</td>\n",
       "      <td>2023-01</td>\n",
       "      <td>Card</td>\n",
       "      <td>1</td>\n",
       "      <td>0</td>\n",
       "    </tr>\n",
       "    <tr>\n",
       "      <th>3</th>\n",
       "      <td>id_5764639925920073051</td>\n",
       "      <td>2023-02</td>\n",
       "      <td>Card</td>\n",
       "      <td>7</td>\n",
       "      <td>7</td>\n",
       "    </tr>\n",
       "    <tr>\n",
       "      <th>4</th>\n",
       "      <td>id_5764639995805565220</td>\n",
       "      <td>2023-02</td>\n",
       "      <td>Card</td>\n",
       "      <td>9</td>\n",
       "      <td>9</td>\n",
       "    </tr>\n",
       "    <tr>\n",
       "      <th>...</th>\n",
       "      <td>...</td>\n",
       "      <td>...</td>\n",
       "      <td>...</td>\n",
       "      <td>...</td>\n",
       "      <td>...</td>\n",
       "    </tr>\n",
       "    <tr>\n",
       "      <th>106</th>\n",
       "      <td>id_5764642572416844553</td>\n",
       "      <td>2023-02</td>\n",
       "      <td>Card</td>\n",
       "      <td>1</td>\n",
       "      <td>1</td>\n",
       "    </tr>\n",
       "    <tr>\n",
       "      <th>107</th>\n",
       "      <td>id_5764642606252296460</td>\n",
       "      <td>2023-02</td>\n",
       "      <td>Card</td>\n",
       "      <td>26</td>\n",
       "      <td>26</td>\n",
       "    </tr>\n",
       "    <tr>\n",
       "      <th>108</th>\n",
       "      <td>id_5764642644797949747</td>\n",
       "      <td>2023-02</td>\n",
       "      <td>Card</td>\n",
       "      <td>66</td>\n",
       "      <td>63</td>\n",
       "    </tr>\n",
       "    <tr>\n",
       "      <th>109</th>\n",
       "      <td>id_5764642705309174155</td>\n",
       "      <td>2023-02</td>\n",
       "      <td>Card</td>\n",
       "      <td>12</td>\n",
       "      <td>12</td>\n",
       "    </tr>\n",
       "    <tr>\n",
       "      <th>110</th>\n",
       "      <td>id_5764641830972948607</td>\n",
       "      <td>2023-01</td>\n",
       "      <td>CPB</td>\n",
       "      <td>1</td>\n",
       "      <td>1</td>\n",
       "    </tr>\n",
       "  </tbody>\n",
       "</table>\n",
       "<p>111 rows × 5 columns</p>\n",
       "</div>"
      ],
      "text/plain": [
       "                   rider_id year_month pay_type_processed  assigned  rejected\n",
       "0    id_5764642082471806385    2023-02                PPB         1         1\n",
       "1    id_5764636073443459204    2023-02               Card         7         7\n",
       "2    id_5764639444808241093    2023-01               Card         1         0\n",
       "3    id_5764639925920073051    2023-02               Card         7         7\n",
       "4    id_5764639995805565220    2023-02               Card         9         9\n",
       "..                      ...        ...                ...       ...       ...\n",
       "106  id_5764642572416844553    2023-02               Card         1         1\n",
       "107  id_5764642606252296460    2023-02               Card        26        26\n",
       "108  id_5764642644797949747    2023-02               Card        66        63\n",
       "109  id_5764642705309174155    2023-02               Card        12        12\n",
       "110  id_5764641830972948607    2023-01                CPB         1         1\n",
       "\n",
       "[111 rows x 5 columns]"
      ]
     },
     "execution_count": 11,
     "metadata": {},
     "output_type": "execute_result"
    }
   ],
   "source": [
    "sqldf(''' SELECT * FROM assigned_order WHERE rider_id not in (SELECT rider_id FROM courier_debt) order by pay_type_processed desc ''')"
   ]
  },
  {
   "cell_type": "code",
   "execution_count": 12,
   "metadata": {},
   "outputs": [
    {
     "data": {
      "text/html": [
       "<div>\n",
       "<style scoped>\n",
       "    .dataframe tbody tr th:only-of-type {\n",
       "        vertical-align: middle;\n",
       "    }\n",
       "\n",
       "    .dataframe tbody tr th {\n",
       "        vertical-align: top;\n",
       "    }\n",
       "\n",
       "    .dataframe thead th {\n",
       "        text-align: right;\n",
       "    }\n",
       "</style>\n",
       "<table border=\"1\" class=\"dataframe\">\n",
       "  <thead>\n",
       "    <tr style=\"text-align: right;\">\n",
       "      <th></th>\n",
       "      <th>rider_id</th>\n",
       "      <th>first_online_date</th>\n",
       "      <th>vehicle_type</th>\n",
       "      <th>last_online_date</th>\n",
       "      <th>debt_2022-10</th>\n",
       "      <th>debt_2022-11</th>\n",
       "      <th>debt_2022-12</th>\n",
       "      <th>debt_2023-01</th>\n",
       "      <th>debt_2023-02</th>\n",
       "      <th>debt_2023-03</th>\n",
       "    </tr>\n",
       "  </thead>\n",
       "  <tbody>\n",
       "    <tr>\n",
       "      <th>0</th>\n",
       "      <td>id_5764607526632949948</td>\n",
       "      <td>2019-10-04</td>\n",
       "      <td>bicycles</td>\n",
       "      <td>20220910</td>\n",
       "      <td>-904.81</td>\n",
       "      <td>-904.81</td>\n",
       "      <td>-904.81</td>\n",
       "      <td>-904.81</td>\n",
       "      <td>-904.81</td>\n",
       "      <td>-904.81</td>\n",
       "    </tr>\n",
       "    <tr>\n",
       "      <th>1</th>\n",
       "      <td>id_5764607526800722948</td>\n",
       "      <td>2019-10-12</td>\n",
       "      <td>bicycles</td>\n",
       "      <td>20221030</td>\n",
       "      <td>0.00</td>\n",
       "      <td>-207.48</td>\n",
       "      <td>-207.48</td>\n",
       "      <td>-207.48</td>\n",
       "      <td>-207.48</td>\n",
       "      <td>-207.48</td>\n",
       "    </tr>\n",
       "    <tr>\n",
       "      <th>2</th>\n",
       "      <td>id_5764607529464106511</td>\n",
       "      <td>2020-05-18</td>\n",
       "      <td>bicycles</td>\n",
       "      <td>20220922</td>\n",
       "      <td>-847.71</td>\n",
       "      <td>-847.71</td>\n",
       "      <td>-847.71</td>\n",
       "      <td>-847.71</td>\n",
       "      <td>-847.71</td>\n",
       "      <td>-847.71</td>\n",
       "    </tr>\n",
       "    <tr>\n",
       "      <th>3</th>\n",
       "      <td>id_5764607530047114589</td>\n",
       "      <td>2019-10-04</td>\n",
       "      <td>bicycles</td>\n",
       "      <td>20220915</td>\n",
       "      <td>-1018.41</td>\n",
       "      <td>-1018.41</td>\n",
       "      <td>-1018.41</td>\n",
       "      <td>-1018.41</td>\n",
       "      <td>-1018.41</td>\n",
       "      <td>-1018.41</td>\n",
       "    </tr>\n",
       "    <tr>\n",
       "      <th>4</th>\n",
       "      <td>id_5764607531234101480</td>\n",
       "      <td>2019-10-09</td>\n",
       "      <td>motorcycles</td>\n",
       "      <td>20220929</td>\n",
       "      <td>-1115.95</td>\n",
       "      <td>-1115.95</td>\n",
       "      <td>-1115.95</td>\n",
       "      <td>-1115.95</td>\n",
       "      <td>-1115.95</td>\n",
       "      <td>-1115.95</td>\n",
       "    </tr>\n",
       "    <tr>\n",
       "      <th>...</th>\n",
       "      <td>...</td>\n",
       "      <td>...</td>\n",
       "      <td>...</td>\n",
       "      <td>...</td>\n",
       "      <td>...</td>\n",
       "      <td>...</td>\n",
       "      <td>...</td>\n",
       "      <td>...</td>\n",
       "      <td>...</td>\n",
       "      <td>...</td>\n",
       "    </tr>\n",
       "    <tr>\n",
       "      <th>7462</th>\n",
       "      <td>id_5764642764721488430</td>\n",
       "      <td>2023-03-01</td>\n",
       "      <td>motorcycles</td>\n",
       "      <td>20230301</td>\n",
       "      <td>0.00</td>\n",
       "      <td>0.00</td>\n",
       "      <td>0.00</td>\n",
       "      <td>0.00</td>\n",
       "      <td>0.00</td>\n",
       "      <td>0.00</td>\n",
       "    </tr>\n",
       "    <tr>\n",
       "      <th>7463</th>\n",
       "      <td>id_5764642812607856931</td>\n",
       "      <td>2023-02-28</td>\n",
       "      <td>motorcycles</td>\n",
       "      <td>20230301</td>\n",
       "      <td>0.00</td>\n",
       "      <td>0.00</td>\n",
       "      <td>0.00</td>\n",
       "      <td>0.00</td>\n",
       "      <td>0.00</td>\n",
       "      <td>0.00</td>\n",
       "    </tr>\n",
       "    <tr>\n",
       "      <th>7464</th>\n",
       "      <td>id_5764642814579180164</td>\n",
       "      <td>2023-03-01</td>\n",
       "      <td>motorcycles</td>\n",
       "      <td>20230301</td>\n",
       "      <td>0.00</td>\n",
       "      <td>0.00</td>\n",
       "      <td>0.00</td>\n",
       "      <td>0.00</td>\n",
       "      <td>0.00</td>\n",
       "      <td>0.00</td>\n",
       "    </tr>\n",
       "    <tr>\n",
       "      <th>7465</th>\n",
       "      <td>id_5764642877946725055</td>\n",
       "      <td>2023-03-01</td>\n",
       "      <td>motorcycles</td>\n",
       "      <td>20230301</td>\n",
       "      <td>0.00</td>\n",
       "      <td>0.00</td>\n",
       "      <td>0.00</td>\n",
       "      <td>0.00</td>\n",
       "      <td>0.00</td>\n",
       "      <td>0.00</td>\n",
       "    </tr>\n",
       "    <tr>\n",
       "      <th>7466</th>\n",
       "      <td>id_5764642889523004144</td>\n",
       "      <td>2023-03-01</td>\n",
       "      <td>motorcycles</td>\n",
       "      <td>20230301</td>\n",
       "      <td>0.00</td>\n",
       "      <td>0.00</td>\n",
       "      <td>0.00</td>\n",
       "      <td>0.00</td>\n",
       "      <td>0.00</td>\n",
       "      <td>0.00</td>\n",
       "    </tr>\n",
       "  </tbody>\n",
       "</table>\n",
       "<p>7467 rows × 10 columns</p>\n",
       "</div>"
      ],
      "text/plain": [
       "                    rider_id first_online_date vehicle_type  last_online_date  \\\n",
       "0     id_5764607526632949948        2019-10-04     bicycles          20220910   \n",
       "1     id_5764607526800722948        2019-10-12     bicycles          20221030   \n",
       "2     id_5764607529464106511        2020-05-18     bicycles          20220922   \n",
       "3     id_5764607530047114589        2019-10-04     bicycles          20220915   \n",
       "4     id_5764607531234101480        2019-10-09  motorcycles          20220929   \n",
       "...                      ...               ...          ...               ...   \n",
       "7462  id_5764642764721488430        2023-03-01  motorcycles          20230301   \n",
       "7463  id_5764642812607856931        2023-02-28  motorcycles          20230301   \n",
       "7464  id_5764642814579180164        2023-03-01  motorcycles          20230301   \n",
       "7465  id_5764642877946725055        2023-03-01  motorcycles          20230301   \n",
       "7466  id_5764642889523004144        2023-03-01  motorcycles          20230301   \n",
       "\n",
       "      debt_2022-10  debt_2022-11  debt_2022-12  debt_2023-01  debt_2023-02  \\\n",
       "0          -904.81       -904.81       -904.81       -904.81       -904.81   \n",
       "1             0.00       -207.48       -207.48       -207.48       -207.48   \n",
       "2          -847.71       -847.71       -847.71       -847.71       -847.71   \n",
       "3         -1018.41      -1018.41      -1018.41      -1018.41      -1018.41   \n",
       "4         -1115.95      -1115.95      -1115.95      -1115.95      -1115.95   \n",
       "...            ...           ...           ...           ...           ...   \n",
       "7462          0.00          0.00          0.00          0.00          0.00   \n",
       "7463          0.00          0.00          0.00          0.00          0.00   \n",
       "7464          0.00          0.00          0.00          0.00          0.00   \n",
       "7465          0.00          0.00          0.00          0.00          0.00   \n",
       "7466          0.00          0.00          0.00          0.00          0.00   \n",
       "\n",
       "      debt_2023-03  \n",
       "0          -904.81  \n",
       "1          -207.48  \n",
       "2          -847.71  \n",
       "3         -1018.41  \n",
       "4         -1115.95  \n",
       "...            ...  \n",
       "7462          0.00  \n",
       "7463          0.00  \n",
       "7464          0.00  \n",
       "7465          0.00  \n",
       "7466          0.00  \n",
       "\n",
       "[7467 rows x 10 columns]"
      ]
     },
     "execution_count": 12,
     "metadata": {},
     "output_type": "execute_result"
    }
   ],
   "source": [
    "sqldf(''' SELECT * FROM courier_debt WHERE rider_id not in (SELECT rider_id FROM assigned_order)  ''')"
   ]
  },
  {
   "cell_type": "code",
   "execution_count": 13,
   "metadata": {},
   "outputs": [
    {
     "data": {
      "text/html": [
       "<div>\n",
       "<style scoped>\n",
       "    .dataframe tbody tr th:only-of-type {\n",
       "        vertical-align: middle;\n",
       "    }\n",
       "\n",
       "    .dataframe tbody tr th {\n",
       "        vertical-align: top;\n",
       "    }\n",
       "\n",
       "    .dataframe thead th {\n",
       "        text-align: right;\n",
       "    }\n",
       "</style>\n",
       "<table border=\"1\" class=\"dataframe\">\n",
       "  <thead>\n",
       "    <tr style=\"text-align: right;\">\n",
       "      <th></th>\n",
       "      <th>rider_id</th>\n",
       "      <th>year_month</th>\n",
       "      <th>pay_type_processed</th>\n",
       "      <th>total_completed_orders_count</th>\n",
       "    </tr>\n",
       "  </thead>\n",
       "  <tbody>\n",
       "  </tbody>\n",
       "</table>\n",
       "</div>"
      ],
      "text/plain": [
       "Empty DataFrame\n",
       "Columns: [rider_id, year_month, pay_type_processed, total_completed_orders_count]\n",
       "Index: []"
      ]
     },
     "execution_count": 13,
     "metadata": {},
     "output_type": "execute_result"
    }
   ],
   "source": [
    "completed_order[completed_order['rider_id']=='id_5764639925920073051']"
   ]
  },
  {
   "cell_type": "code",
   "execution_count": 14,
   "metadata": {},
   "outputs": [
    {
     "data": {
      "text/html": [
       "<div>\n",
       "<style scoped>\n",
       "    .dataframe tbody tr th:only-of-type {\n",
       "        vertical-align: middle;\n",
       "    }\n",
       "\n",
       "    .dataframe tbody tr th {\n",
       "        vertical-align: top;\n",
       "    }\n",
       "\n",
       "    .dataframe thead th {\n",
       "        text-align: right;\n",
       "    }\n",
       "</style>\n",
       "<table border=\"1\" class=\"dataframe\">\n",
       "  <thead>\n",
       "    <tr style=\"text-align: right;\">\n",
       "      <th></th>\n",
       "      <th>rider_id</th>\n",
       "      <th>first_online_date</th>\n",
       "      <th>vehicle_type</th>\n",
       "      <th>last_online_date</th>\n",
       "      <th>debt_2022-10</th>\n",
       "      <th>debt_2022-11</th>\n",
       "      <th>debt_2022-12</th>\n",
       "      <th>debt_2023-01</th>\n",
       "      <th>debt_2023-02</th>\n",
       "      <th>debt_2023-03</th>\n",
       "    </tr>\n",
       "  </thead>\n",
       "  <tbody>\n",
       "    <tr>\n",
       "      <th>26</th>\n",
       "      <td>id_5764607529464106511</td>\n",
       "      <td>2020-05-18</td>\n",
       "      <td>bicycles</td>\n",
       "      <td>20220922</td>\n",
       "      <td>-847.71</td>\n",
       "      <td>-847.71</td>\n",
       "      <td>-847.71</td>\n",
       "      <td>-847.71</td>\n",
       "      <td>-847.71</td>\n",
       "      <td>-847.71</td>\n",
       "    </tr>\n",
       "  </tbody>\n",
       "</table>\n",
       "</div>"
      ],
      "text/plain": [
       "                  rider_id first_online_date vehicle_type  last_online_date  \\\n",
       "26  id_5764607529464106511        2020-05-18     bicycles          20220922   \n",
       "\n",
       "    debt_2022-10  debt_2022-11  debt_2022-12  debt_2023-01  debt_2023-02  \\\n",
       "26       -847.71       -847.71       -847.71       -847.71       -847.71   \n",
       "\n",
       "    debt_2023-03  \n",
       "26       -847.71  "
      ]
     },
     "execution_count": 14,
     "metadata": {},
     "output_type": "execute_result"
    }
   ],
   "source": [
    "courier_debt[courier_debt['rider_id']=='id_5764607529464106511']"
   ]
  },
  {
   "cell_type": "code",
   "execution_count": 15,
   "metadata": {},
   "outputs": [
    {
     "data": {
      "text/html": [
       "<div>\n",
       "<style scoped>\n",
       "    .dataframe tbody tr th:only-of-type {\n",
       "        vertical-align: middle;\n",
       "    }\n",
       "\n",
       "    .dataframe tbody tr th {\n",
       "        vertical-align: top;\n",
       "    }\n",
       "\n",
       "    .dataframe thead th {\n",
       "        text-align: right;\n",
       "    }\n",
       "</style>\n",
       "<table border=\"1\" class=\"dataframe\">\n",
       "  <thead>\n",
       "    <tr style=\"text-align: right;\">\n",
       "      <th></th>\n",
       "      <th>rider_id</th>\n",
       "      <th>first_online_date</th>\n",
       "      <th>vehicle_type</th>\n",
       "      <th>last_online_date</th>\n",
       "      <th>debt_2022-10</th>\n",
       "      <th>debt_2022-11</th>\n",
       "      <th>debt_2022-12</th>\n",
       "      <th>debt_2023-01</th>\n",
       "      <th>debt_2023-02</th>\n",
       "      <th>debt_2023-03</th>\n",
       "    </tr>\n",
       "  </thead>\n",
       "  <tbody>\n",
       "    <tr>\n",
       "      <th>2</th>\n",
       "      <td>id_5764607523910846566</td>\n",
       "      <td>2019-09-28</td>\n",
       "      <td>motorcycles</td>\n",
       "      <td>20230210</td>\n",
       "      <td>0.0</td>\n",
       "      <td>0.0</td>\n",
       "      <td>-196.31</td>\n",
       "      <td>-196.31</td>\n",
       "      <td>-196.31</td>\n",
       "      <td>-340.43</td>\n",
       "    </tr>\n",
       "    <tr>\n",
       "      <th>5</th>\n",
       "      <td>id_5764607524514827277</td>\n",
       "      <td>2019-10-12</td>\n",
       "      <td>bicycles</td>\n",
       "      <td>20230301</td>\n",
       "      <td>0.0</td>\n",
       "      <td>0.0</td>\n",
       "      <td>-424.10</td>\n",
       "      <td>-85.50</td>\n",
       "      <td>-280.61</td>\n",
       "      <td>-200.14</td>\n",
       "    </tr>\n",
       "    <tr>\n",
       "      <th>6</th>\n",
       "      <td>id_5764607525232053991</td>\n",
       "      <td>2022-10-01</td>\n",
       "      <td>motorcycles</td>\n",
       "      <td>20221001</td>\n",
       "      <td>0.0</td>\n",
       "      <td>0.0</td>\n",
       "      <td>0.00</td>\n",
       "      <td>0.00</td>\n",
       "      <td>0.00</td>\n",
       "      <td>0.00</td>\n",
       "    </tr>\n",
       "    <tr>\n",
       "      <th>7</th>\n",
       "      <td>id_5764607525320132574</td>\n",
       "      <td>2019-12-06</td>\n",
       "      <td>motorcycles</td>\n",
       "      <td>20230207</td>\n",
       "      <td>0.0</td>\n",
       "      <td>0.0</td>\n",
       "      <td>0.00</td>\n",
       "      <td>0.00</td>\n",
       "      <td>-605.49</td>\n",
       "      <td>-829.65</td>\n",
       "    </tr>\n",
       "    <tr>\n",
       "      <th>9</th>\n",
       "      <td>id_5764607525949278203</td>\n",
       "      <td>2019-10-09</td>\n",
       "      <td>bicycles</td>\n",
       "      <td>20230301</td>\n",
       "      <td>0.0</td>\n",
       "      <td>0.0</td>\n",
       "      <td>-673.90</td>\n",
       "      <td>-941.17</td>\n",
       "      <td>-867.25</td>\n",
       "      <td>-731.67</td>\n",
       "    </tr>\n",
       "    <tr>\n",
       "      <th>...</th>\n",
       "      <td>...</td>\n",
       "      <td>...</td>\n",
       "      <td>...</td>\n",
       "      <td>...</td>\n",
       "      <td>...</td>\n",
       "      <td>...</td>\n",
       "      <td>...</td>\n",
       "      <td>...</td>\n",
       "      <td>...</td>\n",
       "      <td>...</td>\n",
       "    </tr>\n",
       "    <tr>\n",
       "      <th>50197</th>\n",
       "      <td>id_5764642812607856931</td>\n",
       "      <td>2023-02-28</td>\n",
       "      <td>motorcycles</td>\n",
       "      <td>20230301</td>\n",
       "      <td>0.0</td>\n",
       "      <td>0.0</td>\n",
       "      <td>0.00</td>\n",
       "      <td>0.00</td>\n",
       "      <td>0.00</td>\n",
       "      <td>0.00</td>\n",
       "    </tr>\n",
       "    <tr>\n",
       "      <th>50198</th>\n",
       "      <td>id_5764642814579180164</td>\n",
       "      <td>2023-03-01</td>\n",
       "      <td>motorcycles</td>\n",
       "      <td>20230301</td>\n",
       "      <td>0.0</td>\n",
       "      <td>0.0</td>\n",
       "      <td>0.00</td>\n",
       "      <td>0.00</td>\n",
       "      <td>0.00</td>\n",
       "      <td>0.00</td>\n",
       "    </tr>\n",
       "    <tr>\n",
       "      <th>50199</th>\n",
       "      <td>id_5764642857163948332</td>\n",
       "      <td>2023-02-28</td>\n",
       "      <td>motorcycles</td>\n",
       "      <td>20230228</td>\n",
       "      <td>0.0</td>\n",
       "      <td>0.0</td>\n",
       "      <td>0.00</td>\n",
       "      <td>0.00</td>\n",
       "      <td>0.00</td>\n",
       "      <td>0.00</td>\n",
       "    </tr>\n",
       "    <tr>\n",
       "      <th>50200</th>\n",
       "      <td>id_5764642877946725055</td>\n",
       "      <td>2023-03-01</td>\n",
       "      <td>motorcycles</td>\n",
       "      <td>20230301</td>\n",
       "      <td>0.0</td>\n",
       "      <td>0.0</td>\n",
       "      <td>0.00</td>\n",
       "      <td>0.00</td>\n",
       "      <td>0.00</td>\n",
       "      <td>0.00</td>\n",
       "    </tr>\n",
       "    <tr>\n",
       "      <th>50201</th>\n",
       "      <td>id_5764642889523004144</td>\n",
       "      <td>2023-03-01</td>\n",
       "      <td>motorcycles</td>\n",
       "      <td>20230301</td>\n",
       "      <td>0.0</td>\n",
       "      <td>0.0</td>\n",
       "      <td>0.00</td>\n",
       "      <td>0.00</td>\n",
       "      <td>0.00</td>\n",
       "      <td>0.00</td>\n",
       "    </tr>\n",
       "  </tbody>\n",
       "</table>\n",
       "<p>40432 rows × 10 columns</p>\n",
       "</div>"
      ],
      "text/plain": [
       "                     rider_id first_online_date vehicle_type  \\\n",
       "2      id_5764607523910846566        2019-09-28  motorcycles   \n",
       "5      id_5764607524514827277        2019-10-12     bicycles   \n",
       "6      id_5764607525232053991        2022-10-01  motorcycles   \n",
       "7      id_5764607525320132574        2019-12-06  motorcycles   \n",
       "9      id_5764607525949278203        2019-10-09     bicycles   \n",
       "...                       ...               ...          ...   \n",
       "50197  id_5764642812607856931        2023-02-28  motorcycles   \n",
       "50198  id_5764642814579180164        2023-03-01  motorcycles   \n",
       "50199  id_5764642857163948332        2023-02-28  motorcycles   \n",
       "50200  id_5764642877946725055        2023-03-01  motorcycles   \n",
       "50201  id_5764642889523004144        2023-03-01  motorcycles   \n",
       "\n",
       "       last_online_date  debt_2022-10  debt_2022-11  debt_2022-12  \\\n",
       "2              20230210           0.0           0.0       -196.31   \n",
       "5              20230301           0.0           0.0       -424.10   \n",
       "6              20221001           0.0           0.0          0.00   \n",
       "7              20230207           0.0           0.0          0.00   \n",
       "9              20230301           0.0           0.0       -673.90   \n",
       "...                 ...           ...           ...           ...   \n",
       "50197          20230301           0.0           0.0          0.00   \n",
       "50198          20230301           0.0           0.0          0.00   \n",
       "50199          20230228           0.0           0.0          0.00   \n",
       "50200          20230301           0.0           0.0          0.00   \n",
       "50201          20230301           0.0           0.0          0.00   \n",
       "\n",
       "       debt_2023-01  debt_2023-02  debt_2023-03  \n",
       "2           -196.31       -196.31       -340.43  \n",
       "5            -85.50       -280.61       -200.14  \n",
       "6              0.00          0.00          0.00  \n",
       "7              0.00       -605.49       -829.65  \n",
       "9           -941.17       -867.25       -731.67  \n",
       "...             ...           ...           ...  \n",
       "50197          0.00          0.00          0.00  \n",
       "50198          0.00          0.00          0.00  \n",
       "50199          0.00          0.00          0.00  \n",
       "50200          0.00          0.00          0.00  \n",
       "50201          0.00          0.00          0.00  \n",
       "\n",
       "[40432 rows x 10 columns]"
      ]
     },
     "execution_count": 15,
     "metadata": {},
     "output_type": "execute_result"
    }
   ],
   "source": [
    "courier_debt[courier_debt['debt_2022-10']==0]"
   ]
  },
  {
   "cell_type": "markdown",
   "metadata": {},
   "source": [
    "Básicamente, he encontrado que la tabla de deudas agrupa \"posiblemente a todos los riders que al menos hayan hecho algún pedido, no sé si específicamente de un PPB\", pero por ejemplo, no salen algunos riders de la tabla de asignados porque se entiende que no han culminado ningún pedido. Además, la tabla de deudas también contiene deudas vacías"
   ]
  },
  {
   "cell_type": "markdown",
   "metadata": {},
   "source": [
    "órdenes asignadas -> órdenes completadas -> deuda de rider <- órdenes completadas de meses anteriores al 23-10"
   ]
  },
  {
   "cell_type": "markdown",
   "metadata": {},
   "source": [
    "Lo primero que haré, será agrupar a los riders en base al tipo de vehículo"
   ]
  },
  {
   "cell_type": "code",
   "execution_count": 16,
   "metadata": {},
   "outputs": [
    {
     "data": {
      "text/html": [
       "<div>\n",
       "<style scoped>\n",
       "    .dataframe tbody tr th:only-of-type {\n",
       "        vertical-align: middle;\n",
       "    }\n",
       "\n",
       "    .dataframe tbody tr th {\n",
       "        vertical-align: top;\n",
       "    }\n",
       "\n",
       "    .dataframe thead th {\n",
       "        text-align: right;\n",
       "    }\n",
       "</style>\n",
       "<table border=\"1\" class=\"dataframe\">\n",
       "  <thead>\n",
       "    <tr style=\"text-align: right;\">\n",
       "      <th></th>\n",
       "      <th>debt_2022-10</th>\n",
       "      <th>debt_2022-11</th>\n",
       "      <th>debt_2022-12</th>\n",
       "      <th>debt_2023-01</th>\n",
       "      <th>debt_2023-02</th>\n",
       "      <th>debt_2023-03</th>\n",
       "    </tr>\n",
       "    <tr>\n",
       "      <th>vehicle_type</th>\n",
       "      <th></th>\n",
       "      <th></th>\n",
       "      <th></th>\n",
       "      <th></th>\n",
       "      <th></th>\n",
       "      <th></th>\n",
       "    </tr>\n",
       "  </thead>\n",
       "  <tbody>\n",
       "    <tr>\n",
       "      <th>bicycles</th>\n",
       "      <td>-4824645.27</td>\n",
       "      <td>-8443691.55</td>\n",
       "      <td>-12780399.47</td>\n",
       "      <td>-19802580.74</td>\n",
       "      <td>-28243232.18</td>\n",
       "      <td>-35316401.47</td>\n",
       "    </tr>\n",
       "    <tr>\n",
       "      <th>motorcycles</th>\n",
       "      <td>-1610114.59</td>\n",
       "      <td>-2172876.09</td>\n",
       "      <td>-2574505.96</td>\n",
       "      <td>-2997426.63</td>\n",
       "      <td>-3375683.06</td>\n",
       "      <td>-3943650.45</td>\n",
       "    </tr>\n",
       "    <tr>\n",
       "      <th>pedestrians</th>\n",
       "      <td>-27561.36</td>\n",
       "      <td>-46309.93</td>\n",
       "      <td>-54761.78</td>\n",
       "      <td>-63399.31</td>\n",
       "      <td>-64490.80</td>\n",
       "      <td>-75338.47</td>\n",
       "    </tr>\n",
       "  </tbody>\n",
       "</table>\n",
       "</div>"
      ],
      "text/plain": [
       "              debt_2022-10  debt_2022-11  debt_2022-12  debt_2023-01  \\\n",
       "vehicle_type                                                           \n",
       "bicycles       -4824645.27   -8443691.55  -12780399.47  -19802580.74   \n",
       "motorcycles    -1610114.59   -2172876.09   -2574505.96   -2997426.63   \n",
       "pedestrians      -27561.36     -46309.93     -54761.78     -63399.31   \n",
       "\n",
       "              debt_2023-02  debt_2023-03  \n",
       "vehicle_type                              \n",
       "bicycles      -28243232.18  -35316401.47  \n",
       "motorcycles    -3375683.06   -3943650.45  \n",
       "pedestrians      -64490.80     -75338.47  "
      ]
     },
     "execution_count": 16,
     "metadata": {},
     "output_type": "execute_result"
    }
   ],
   "source": [
    "courier_debt.groupby('vehicle_type')[['debt_2022-10', 'debt_2022-11', 'debt_2022-12', 'debt_2023-01', 'debt_2023-02', 'debt_2023-03']].sum()"
   ]
  },
  {
   "cell_type": "code",
   "execution_count": 17,
   "metadata": {},
   "outputs": [
    {
     "data": {
      "text/plain": [
       "array(['bicycles', 'motorcycles', 'pedestrians'], dtype=object)"
      ]
     },
     "execution_count": 17,
     "metadata": {},
     "output_type": "execute_result"
    }
   ],
   "source": [
    "courier_debt['vehicle_type'].unique()"
   ]
  },
  {
   "cell_type": "code",
   "execution_count": 18,
   "metadata": {},
   "outputs": [],
   "source": [
    "total = 35316401.47 + 3943650.45 + 75338.47\n",
    "bicicletas = round((35316401.47 / total) *100,1)\n",
    "moto = round((3943650.45 / total) * 100,1 )\n",
    "persona = round((75338.47 / total) * 100,1 )"
   ]
  },
  {
   "cell_type": "code",
   "execution_count": 19,
   "metadata": {},
   "outputs": [
    {
     "name": "stdout",
     "output_type": "stream",
     "text": [
      "La deuda acumulada de los vehículos de bicicletas representa el 89.8%\n",
      "La deuda acumulada de los vehículos de moto representa el 10.0%\n",
      "La deuda acumulada de los vehículos de persona representa el 0.2%\n"
     ]
    }
   ],
   "source": [
    "print('La deuda acumulada de los vehículos de bicicletas representa el ' + str(bicicletas)+'%' )\n",
    "print('La deuda acumulada de los vehículos de moto representa el ' + str(moto)+'%' )\n",
    "print('La deuda acumulada de los vehículos de persona representa el ' + str(persona)+'%' ) "
   ]
  },
  {
   "cell_type": "code",
   "execution_count": 20,
   "metadata": {},
   "outputs": [
    {
     "data": {
      "text/html": [
       "<div>\n",
       "<style scoped>\n",
       "    .dataframe tbody tr th:only-of-type {\n",
       "        vertical-align: middle;\n",
       "    }\n",
       "\n",
       "    .dataframe tbody tr th {\n",
       "        vertical-align: top;\n",
       "    }\n",
       "\n",
       "    .dataframe thead th {\n",
       "        text-align: right;\n",
       "    }\n",
       "</style>\n",
       "<table border=\"1\" class=\"dataframe\">\n",
       "  <thead>\n",
       "    <tr style=\"text-align: right;\">\n",
       "      <th></th>\n",
       "      <th>COUNT(rider_id)</th>\n",
       "      <th>vehicle_type</th>\n",
       "    </tr>\n",
       "  </thead>\n",
       "  <tbody>\n",
       "    <tr>\n",
       "      <th>0</th>\n",
       "      <td>41299</td>\n",
       "      <td>bicycles</td>\n",
       "    </tr>\n",
       "    <tr>\n",
       "      <th>1</th>\n",
       "      <td>8623</td>\n",
       "      <td>motorcycles</td>\n",
       "    </tr>\n",
       "    <tr>\n",
       "      <th>2</th>\n",
       "      <td>280</td>\n",
       "      <td>pedestrians</td>\n",
       "    </tr>\n",
       "  </tbody>\n",
       "</table>\n",
       "</div>"
      ],
      "text/plain": [
       "   COUNT(rider_id) vehicle_type\n",
       "0            41299     bicycles\n",
       "1             8623  motorcycles\n",
       "2              280  pedestrians"
      ]
     },
     "execution_count": 20,
     "metadata": {},
     "output_type": "execute_result"
    }
   ],
   "source": [
    "sqldf(''' SELECT COUNT(rider_id),vehicle_type FROM courier_debt group by vehicle_type''')"
   ]
  },
  {
   "cell_type": "markdown",
   "metadata": {},
   "source": [
    "Podemos observar que, a pesar de que la mayoría de la deuda está en las bicicletas, la mayoría de riders son bicicletas y representa casi el mismo porcentaje (cerca al 90%), por lo que esta segmentación  no nos ayudará a encontrar el problema."
   ]
  },
  {
   "cell_type": "code",
   "execution_count": 21,
   "metadata": {},
   "outputs": [
    {
     "data": {
      "text/plain": [
       "<Axes: xlabel='debt_2023-03', ylabel='Count'>"
      ]
     },
     "execution_count": 21,
     "metadata": {},
     "output_type": "execute_result"
    },
    {
     "data": {
      "image/png": "[encoded data removed]",
      "text/plain": [
       "<Figure size 640x480 with 1 Axes>"
      ]
     },
     "metadata": {},
     "output_type": "display_data"
    }
   ],
   "source": [
    "import seaborn as sns\n",
    "\n",
    "sns.histplot(courier_debt['debt_2023-03'])"
   ]
  }
 ],
 "metadata": {
  "kernelspec": {
   "display_name": "Python 3",
   "language": "python",
   "name": "python3"
  },
  "language_info": {
   "codemirror_mode": {
    "name": "ipython",
    "version": 3
   },
   "file_extension": ".py",
   "mimetype": "text/x-python",
   "name": "python",
   "nbconvert_exporter": "python",
   "pygments_lexer": "ipython3",
   "version": "3.11.4"
  }
 },
 "nbformat": 4,
 "nbformat_minor": 2
}
